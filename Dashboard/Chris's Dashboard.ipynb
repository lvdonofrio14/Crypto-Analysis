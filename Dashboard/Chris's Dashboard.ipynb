{
 "cells": [
  {
   "cell_type": "markdown",
   "metadata": {},
   "source": [
    "# Imports"
   ]
  },
  {
   "cell_type": "code",
   "execution_count": 1,
   "metadata": {},
   "outputs": [],
   "source": [
    "import pandas as pd\n",
    "from pathlib import Path\n",
    "import plotly.express as px\n",
    "import pandas as pd\n",
    "import matplotlib.pyplot as plt\n",
    "import numpy as np\n",
    "import os\n",
    "from dotenv import load_dotenv\n",
    "import seaborn as sns"
   ]
  },
  {
   "cell_type": "code",
   "execution_count": 2,
   "metadata": {},
   "outputs": [
    {
     "data": {
      "text/plain": [
       "True"
      ]
     },
     "execution_count": 2,
     "metadata": {},
     "output_type": "execute_result"
    }
   ],
   "source": [
    "import alpaca_trade_api as tradeapi\n",
    "from dotenv import load_dotenv\n",
    "load_dotenv()b"
   ]
  },
  {
   "cell_type": "markdown",
   "metadata": {},
   "source": [
    "# Read in CSV data"
   ]
  },
  {
   "cell_type": "code",
   "execution_count": 3,
   "metadata": {},
   "outputs": [],
   "source": [
    "file_path_1 = Path('coin_Bitcoin.csv')\n",
    "file_path_2 = Path('coin_Ethereum.csv')\n",
    "file_path_3 = Path('coin_Litecoin.csv')\n",
    "file_path_4 = Path('coin_XRP.csv')"
   ]
  },
  {
   "cell_type": "code",
   "execution_count": 5,
   "metadata": {},
   "outputs": [],
   "source": [
    "bitcoin_df  = pd.read_csv(file_path_1)\n",
    "ethereum_df= pd.read_csv(file_path_2)\n",
    "litecoin_df = pd.read_csv(file_path_3)\n",
    "xrp_df = pd.read_csv(file_path_4)"
   ]
  },
  {
   "cell_type": "code",
   "execution_count": 6,
   "metadata": {
    "scrolled": true
   },
   "outputs": [
    {
     "data": {
      "text/html": [
       "<div>\n",
       "<style scoped>\n",
       "    .dataframe tbody tr th:only-of-type {\n",
       "        vertical-align: middle;\n",
       "    }\n",
       "\n",
       "    .dataframe tbody tr th {\n",
       "        vertical-align: top;\n",
       "    }\n",
       "\n",
       "    .dataframe thead th {\n",
       "        text-align: right;\n",
       "    }\n",
       "</style>\n",
       "<table border=\"1\" class=\"dataframe\">\n",
       "  <thead>\n",
       "    <tr style=\"text-align: right;\">\n",
       "      <th></th>\n",
       "      <th>SNo</th>\n",
       "      <th>High</th>\n",
       "      <th>Low</th>\n",
       "      <th>Open</th>\n",
       "      <th>Close</th>\n",
       "      <th>Volume</th>\n",
       "      <th>Marketcap</th>\n",
       "    </tr>\n",
       "  </thead>\n",
       "  <tbody>\n",
       "    <tr>\n",
       "      <th>count</th>\n",
       "      <td>1885.000000</td>\n",
       "      <td>1885.000000</td>\n",
       "      <td>1885.000000</td>\n",
       "      <td>1885.000000</td>\n",
       "      <td>1885.000000</td>\n",
       "      <td>1.885000e+03</td>\n",
       "      <td>1.885000e+03</td>\n",
       "    </tr>\n",
       "    <tr>\n",
       "      <th>mean</th>\n",
       "      <td>1089.000000</td>\n",
       "      <td>287.676047</td>\n",
       "      <td>266.048742</td>\n",
       "      <td>277.361060</td>\n",
       "      <td>278.064271</td>\n",
       "      <td>5.850077e+09</td>\n",
       "      <td>2.907151e+10</td>\n",
       "    </tr>\n",
       "    <tr>\n",
       "      <th>std</th>\n",
       "      <td>544.296947</td>\n",
       "      <td>325.383998</td>\n",
       "      <td>294.912770</td>\n",
       "      <td>311.369588</td>\n",
       "      <td>312.362349</td>\n",
       "      <td>8.260745e+09</td>\n",
       "      <td>3.386433e+10</td>\n",
       "    </tr>\n",
       "    <tr>\n",
       "      <th>min</th>\n",
       "      <td>147.000000</td>\n",
       "      <td>0.954822</td>\n",
       "      <td>0.929835</td>\n",
       "      <td>0.933712</td>\n",
       "      <td>0.937124</td>\n",
       "      <td>2.060620e+05</td>\n",
       "      <td>7.117666e+07</td>\n",
       "    </tr>\n",
       "    <tr>\n",
       "      <th>25%</th>\n",
       "      <td>618.000000</td>\n",
       "      <td>51.274502</td>\n",
       "      <td>48.297100</td>\n",
       "      <td>49.971401</td>\n",
       "      <td>50.037300</td>\n",
       "      <td>1.456020e+08</td>\n",
       "      <td>4.553738e+09</td>\n",
       "    </tr>\n",
       "    <tr>\n",
       "      <th>50%</th>\n",
       "      <td>1089.000000</td>\n",
       "      <td>206.361445</td>\n",
       "      <td>194.783997</td>\n",
       "      <td>200.608867</td>\n",
       "      <td>200.635000</td>\n",
       "      <td>2.208720e+09</td>\n",
       "      <td>2.089154e+10</td>\n",
       "    </tr>\n",
       "    <tr>\n",
       "      <th>75%</th>\n",
       "      <td>1560.000000</td>\n",
       "      <td>364.438995</td>\n",
       "      <td>341.416992</td>\n",
       "      <td>353.202267</td>\n",
       "      <td>353.362266</td>\n",
       "      <td>8.446546e+09</td>\n",
       "      <td>3.675680e+10</td>\n",
       "    </tr>\n",
       "    <tr>\n",
       "      <th>max</th>\n",
       "      <td>2031.000000</td>\n",
       "      <td>2036.286493</td>\n",
       "      <td>1896.684508</td>\n",
       "      <td>1959.902977</td>\n",
       "      <td>1960.164744</td>\n",
       "      <td>6.073363e+10</td>\n",
       "      <td>2.249100e+11</td>\n",
       "    </tr>\n",
       "  </tbody>\n",
       "</table>\n",
       "</div>"
      ],
      "text/plain": [
       "               SNo         High          Low         Open        Close  \\\n",
       "count  1885.000000  1885.000000  1885.000000  1885.000000  1885.000000   \n",
       "mean   1089.000000   287.676047   266.048742   277.361060   278.064271   \n",
       "std     544.296947   325.383998   294.912770   311.369588   312.362349   \n",
       "min     147.000000     0.954822     0.929835     0.933712     0.937124   \n",
       "25%     618.000000    51.274502    48.297100    49.971401    50.037300   \n",
       "50%    1089.000000   206.361445   194.783997   200.608867   200.635000   \n",
       "75%    1560.000000   364.438995   341.416992   353.202267   353.362266   \n",
       "max    2031.000000  2036.286493  1896.684508  1959.902977  1960.164744   \n",
       "\n",
       "             Volume     Marketcap  \n",
       "count  1.885000e+03  1.885000e+03  \n",
       "mean   5.850077e+09  2.907151e+10  \n",
       "std    8.260745e+09  3.386433e+10  \n",
       "min    2.060620e+05  7.117666e+07  \n",
       "25%    1.456020e+08  4.553738e+09  \n",
       "50%    2.208720e+09  2.089154e+10  \n",
       "75%    8.446546e+09  3.675680e+10  \n",
       "max    6.073363e+10  2.249100e+11  "
      ]
     },
     "execution_count": 6,
     "metadata": {},
     "output_type": "execute_result"
    }
   ],
   "source": [
    "xrp_df.describe()\n",
    "bitcoin_df.describe()\n",
    "litecoin_df.describe()\n",
    "ethereum_df.describe()"
   ]
  },
  {
   "cell_type": "code",
   "execution_count": null,
   "metadata": {},
   "outputs": [],
   "source": [
    "corr_rtn=combined_rtn.corr()\n",
    "corr_vol=combined_vol.corr()"
   ]
  },
  {
   "cell_type": "code",
   "execution_count": null,
   "metadata": {},
   "outputs": [],
   "source": [
    "ethereum_df.plot(grid=True, figsize=(10, 5)).axhline(y = 1, color = \"black\", lw = 2)\n",
    "bitcoin_df.plot(grid=True, figsize=(10, 5)).axhline(y = 1, color = \"black\", lw = 2)\n",
    "litecoin_df.plot(grid=True, figsize=(10, 5)).axhline(y = 1, color = \"black\", lw = 2)\n",
    "xrp_df.plot(grid=True, figsize=(10, 5)).axhline(y = 1, color = \"black\", lw = 2)b"
   ]
  },
  {
   "cell_type": "code",
   "execution_count": null,
   "metadata": {},
   "outputs": [],
   "source": [
    "corr = bitcoin_df.corr()\n",
    "corr = ethereum_df.corr()\n",
    "corr = litecoin_df.corr()\n",
    "corr = xrp_df.corr()"
   ]
  }
 ],
 "metadata": {
  "kernelspec": {
   "display_name": "Python 3",
   "language": "python",
   "name": "python3"
  },
  "language_info": {
   "codemirror_mode": {
    "name": "ipython",
    "version": 3
   },
   "file_extension": ".py",
   "mimetype": "text/x-python",
   "name": "python",
   "nbconvert_exporter": "python",
   "pygments_lexer": "ipython3",
   "version": "3.8.3"
  }
 },
 "nbformat": 4,
 "nbformat_minor": 4
}
