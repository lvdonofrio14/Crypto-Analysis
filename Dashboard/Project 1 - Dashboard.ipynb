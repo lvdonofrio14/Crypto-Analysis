{
 "cells": [
  {
   "cell_type": "markdown",
   "id": "married-weekly",
   "metadata": {},
   "source": [
    "# Project 1 - Crypto Currency Dashboard"
   ]
  },
  {
   "cell_type": "code",
   "execution_count": 88,
   "id": "appointed-tonight",
   "metadata": {},
   "outputs": [],
   "source": [
    "# Imports\n",
    "\n",
    "import panel as pn\n",
    "pn.extension('plotly')\n",
    "import plotly.express as px\n",
    "import pandas as pd\n",
    "import hvplot.pandas\n",
    "import matplotlib.pyplot as plt\n",
    "import numpy as np\n",
    "import os\n",
    "from pathlib import Path\n",
    "import seaborn as sns\n",
    "import numpy_financial as npf\n",
    "import datetime as dt\n",
    "%matplotlib inline\n",
    "import warnings\n",
    "warnings.filterwarnings('ignore')\n",
    "from plotly.subplots import make_subplots\n",
    "import plotly.graph_objects as go\n",
    "import seaborn as sns"
   ]
  },
  {
   "cell_type": "code",
   "execution_count": 89,
   "id": "incredible-level",
   "metadata": {},
   "outputs": [
    {
     "data": {
      "text/plain": [
       "True"
      ]
     },
     "execution_count": 89,
     "metadata": {},
     "output_type": "execute_result"
    }
   ],
   "source": [
    "# Load .env environment variables\n",
    "\n",
    "import alpaca_trade_api as tradeapi\n",
    "from dotenv import load_dotenv\n",
    "load_dotenv()"
   ]
  },
  {
   "cell_type": "code",
   "execution_count": 90,
   "id": "crude-gender",
   "metadata": {},
   "outputs": [],
   "source": [
    "# Read the csv on cryptocurrency\n",
    "    \n",
    "combined_rtn= pd.read_csv(Path('Resources/combined_returns_df.csv'))\n",
    "combined_vol= pd.read_csv(Path('Resources/combined_vol_df.csv'))\n"
   ]
  },
  {
   "cell_type": "code",
   "execution_count": 91,
   "id": "harmful-funeral",
   "metadata": {},
   "outputs": [],
   "source": [
    "del combined_rtn['Unnamed: 0']\n",
    "del combined_vol['Unnamed: 0']"
   ]
  },
  {
   "cell_type": "code",
   "execution_count": 92,
   "id": "bright-insulin",
   "metadata": {},
   "outputs": [],
   "source": [
    "corr_rtn=combined_rtn.corr()\n",
    "corr_vol=combined_vol.corr()"
   ]
  },
  {
   "cell_type": "code",
   "execution_count": 93,
   "id": "fitted-membrane",
   "metadata": {},
   "outputs": [],
   "source": [
    "def corr_rtn_function():\n",
    "    return corr_rtn.hvplot(title='Returns Correlation',xlabel='Ticker',ylabel='Correlation')"
   ]
  },
  {
   "cell_type": "code",
   "execution_count": 113,
   "id": "guided-iraqi",
   "metadata": {},
   "outputs": [],
   "source": [
    "def corr_rtn_heat():\n",
    "    return px.imshow(corr_rtn)"
   ]
  },
  {
   "cell_type": "code",
   "execution_count": 95,
   "id": "changing-archive",
   "metadata": {},
   "outputs": [],
   "source": [
    "def corr_vol_function():\n",
    "    return corr_vol.hvplot(title='Volume Correlation',xlabel='Ticker',ylabel='Correlation')"
   ]
  },
  {
   "cell_type": "code",
   "execution_count": 112,
   "id": "prospective-czech",
   "metadata": {},
   "outputs": [],
   "source": [
    "def corr_vol_heat():\n",
    "    return px.imshow(corr_vol)"
   ]
  },
  {
   "cell_type": "code",
   "execution_count": 100,
   "id": "quick-stereo",
   "metadata": {},
   "outputs": [],
   "source": [
    "def combined_rtn_function():\n",
    "    return px.scatter(combined_rtn, x = \"Date\", y = ['BTC','ETH','LTE','XRP','DIA','SPY','IWM','GLD'], title='Average Return by Ticker') "
   ]
  },
  {
   "cell_type": "code",
   "execution_count": 101,
   "id": "mathematical-platform",
   "metadata": {},
   "outputs": [],
   "source": [
    "def combined_vol_function():\n",
    "    return px.scatter(combined_vol, x = \"Date\", y = ['BTC','ETH','LTE','XRP','DIA','SPY','IWM','GLD'],title='Average Volume by Ticker') "
   ]
  },
  {
   "cell_type": "code",
   "execution_count": 109,
   "id": "inappropriate-opportunity",
   "metadata": {},
   "outputs": [
    {
     "data": {
      "image/png": "[encoded data removed]",
      "text/plain": [
       "<Figure size 432x288 with 3 Axes>"
      ]
     },
     "metadata": {
      "needs_background": "light"
     },
     "output_type": "display_data"
    }
   ],
   "source": [
    " # Create a Title for the Dashboard\n",
    "Crypto = pn.Column('Crypto vs stocks: Volume and Returns - Do they correlate?')\n",
    "                           \n",
    "rtn_df = pn.Column(corr_rtn_function(),corr_rtn_heat())\n",
    "vol_df = pn.Column(corr_vol_function(),corr_vol_heat())\n",
    "agg_df = pn.Column(combined_rtn_function(),combined_vol_function())\n",
    "\n",
    "\n",
    "dashboard_content = pn.Tabs(\n",
    "    ('Welcome', Crypto),\n",
    "    ('Return Correlation', rtn_df),\n",
    "    ('Volume Correlation', vol_df),\n",
    "    ('Aggregate Returns & Volume', agg_df)\n",
    ")\n",
    "\n"
   ]
  },
  {
   "cell_type": "code",
   "execution_count": null,
   "id": "polyphonic-lafayette",
   "metadata": {},
   "outputs": [],
   "source": [
    "# Serve the# dashboard\n",
    "dashboard_content.servable()"
   ]
  },
  {
   "cell_type": "code",
   "execution_count": null,
   "id": "dangerous-campus",
   "metadata": {},
   "outputs": [],
   "source": []
  },
  {
   "cell_type": "code",
   "execution_count": null,
   "id": "controlling-remove",
   "metadata": {},
   "outputs": [],
   "source": []
  },
  {
   "cell_type": "code",
   "execution_count": null,
   "id": "packed-montana",
   "metadata": {},
   "outputs": [],
   "source": []
  },
  {
   "cell_type": "code",
   "execution_count": null,
   "id": "personal-rebate",
   "metadata": {},
   "outputs": [],
   "source": []
  },
  {
   "cell_type": "code",
   "execution_count": null,
   "id": "macro-israel",
   "metadata": {},
   "outputs": [],
   "source": []
  },
  {
   "cell_type": "code",
   "execution_count": null,
   "id": "purple-semester",
   "metadata": {},
   "outputs": [],
   "source": []
  },
  {
   "cell_type": "code",
   "execution_count": null,
   "id": "cultural-stationery",
   "metadata": {},
   "outputs": [],
   "source": []
  },
  {
   "cell_type": "code",
   "execution_count": null,
   "id": "global-sociology",
   "metadata": {},
   "outputs": [],
   "source": []
  },
  {
   "cell_type": "code",
   "execution_count": null,
   "id": "considered-missouri",
   "metadata": {},
   "outputs": [],
   "source": []
  },
  {
   "cell_type": "code",
   "execution_count": null,
   "id": "frequent-password",
   "metadata": {},
   "outputs": [],
   "source": []
  },
  {
   "cell_type": "code",
   "execution_count": null,
   "id": "dense-climb",
   "metadata": {},
   "outputs": [],
   "source": []
  }
 ],
 "metadata": {
  "kernelspec": {
   "display_name": "Python 3",
   "language": "python",
   "name": "python3"
  },
  "language_info": {
   "codemirror_mode": {
    "name": "ipython",
    "version": 3
   },
   "file_extension": ".py",
   "mimetype": "text/x-python",
   "name": "python",
   "nbconvert_exporter": "python",
   "pygments_lexer": "ipython3",
   "version": "3.8.5"
  }
 },
 "nbformat": 4,
 "nbformat_minor": 5
}
